{
 "cells": [
  {
   "cell_type": "markdown",
   "id": "8b610866",
   "metadata": {},
   "source": [
    "Flask API APP\n",
    "---"
   ]
  },
  {
   "cell_type": "code",
   "execution_count": 1,
   "id": "f991142e",
   "metadata": {
    "ExecuteTime": {
     "end_time": "2023-01-18T18:50:41.580415Z",
     "start_time": "2023-01-18T18:50:39.882606Z"
    }
   },
   "outputs": [],
   "source": [
    "import os \n",
    "import sys\n",
    "from flask import Flask, request, redirect, url_for, render_template ,Response,flash\n",
    "import numpy as np\n",
    "from PIL import Image, ImageOps\n",
    "import base64\n",
    "import io\n",
    "import torch\n",
    "import cv2  \n",
    "import pandas as pd\n",
    "import matplotlib.pyplot as plt\n",
    "from werkzeug.utils import secure_filename"
   ]
  },
  {
   "cell_type": "markdown",
   "id": "fc22dccd",
   "metadata": {},
   "source": [
    "## Setup APP configurations\n",
    "\n",
    "directories , allowed extensions ,etc"
   ]
  },
  {
   "cell_type": "code",
   "execution_count": 2,
   "id": "43d5bc9d",
   "metadata": {
    "ExecuteTime": {
     "end_time": "2023-01-18T18:50:41.595822Z",
     "start_time": "2023-01-18T18:50:41.581704Z"
    }
   },
   "outputs": [],
   "source": [
    "UPLOAD_FOLDER = 'static/uploads/'\n",
    "PREDICTIONS_FOLDER = 'static/predictions/'\n",
    "ALLOWED_IMG = {'jpg', 'png', 'jpeg','webp','svg'}\n",
    "ALLOWED_VID = {\"mp4\",\"mov\",\"wmv\",\"avi\",\"avchd\",\"flv\", \"mkv\",\"webm\" }"
   ]
  },
  {
   "cell_type": "code",
   "execution_count": 3,
   "id": "80d5a025",
   "metadata": {
    "ExecuteTime": {
     "end_time": "2023-01-18T18:50:41.611711Z",
     "start_time": "2023-01-18T18:50:41.596849Z"
    }
   },
   "outputs": [],
   "source": [
    "app = Flask(__name__,\n",
    "            static_folder='static',\n",
    "            template_folder='static/templates')\n",
    "app.config['UPLOAD_FOLDER'] = UPLOAD_FOLDER\n",
    "app.config['PREDICTIONS_FOLDER'] = PREDICTIONS_FOLDER\n",
    "app.config['MAX_CONTENT_LENGTH'] = 16e8 \n",
    "app.secret_key = \"secret key\"\n",
    "\n"
   ]
  },
  {
   "cell_type": "markdown",
   "id": "2e0d34a3",
   "metadata": {},
   "source": [
    "## APP functions"
   ]
  },
  {
   "cell_type": "code",
   "execution_count": 4,
   "id": "589b0a78",
   "metadata": {
    "ExecuteTime": {
     "end_time": "2023-01-18T18:50:41.627278Z",
     "start_time": "2023-01-18T18:50:41.613023Z"
    }
   },
   "outputs": [],
   "source": [
    "def allowed_file(filename,extensions ):\n",
    "    '''\n",
    "    Returns the file allowed to be uploaded.\n",
    "\n",
    "            Parameters:\n",
    "                    filename (str): file name.\n",
    "                    extensions (itterable):allowed files extensions.\n",
    "\n",
    "            Returns:\n",
    "                     (bool): the file extensions in allowed extensions or not.\n",
    "    '''\n",
    "    return '.' in filename and \\\n",
    "           filename.rsplit('.', 1)[1].lower() in extensions"
   ]
  },
  {
   "cell_type": "code",
   "execution_count": 5,
   "id": "a355f497",
   "metadata": {
    "ExecuteTime": {
     "end_time": "2023-01-18T18:50:41.642541Z",
     "start_time": "2023-01-18T18:50:41.628308Z"
    }
   },
   "outputs": [],
   "source": [
    "@app.route(\"/\")\n",
    "def index():   \n",
    "    '''\n",
    "   default page returen the first page template.\n",
    "\n",
    "            Returns:\n",
    "                    binary_sum (bool): Binary string of the sum of a and b\n",
    "    '''\n",
    "    return render_template('index.html') \n",
    "\n",
    "@app.route(\"/\", methods=['POST'])\n",
    "def do_process_photo():\n",
    "    '''\n",
    "   we upload file the functhion check if the file allowed to be used by it extension and pass it to the model \n",
    "   returen the annotated image back to show it on the web page.\n",
    "\n",
    "            Returns:\n",
    "                    the image html and the annotated image.\n",
    "    '''\n",
    "    # get the file form post request\n",
    "    file = request.files['file']\n",
    "    # check file name first ,\n",
    "    if file.filename == '':  \n",
    "        flash('No image selected for uploading')\n",
    "        return redirect(request.url)\n",
    "    # check if the file extension is allowed\n",
    "    elif file and allowed_file(file.filename ,ALLOWED_IMG):\n",
    "        #filename = secure_filename(file.filename)\n",
    "        #file.save(os.path.join(app.config['UPLOAD_FOLDER'], filename))\n",
    "        # convert image to gray scale\n",
    "        image = ImageOps.grayscale(Image.open(file))\n",
    "        # predict objects image \n",
    "        out = model(image )\n",
    "        # plot the predictions and resize the images \n",
    "        image = Image.fromarray( out.render()[0]).resize((500,500))\n",
    "        img_path =os.path.join(app.config['PREDICTIONS_FOLDER'], \"image.jpg\")\n",
    "=        \n",
    "        return render_template('image.html', \n",
    "                               filename=img_path) \n",
    "    \n",
    "    \n",
    "    else:  \n",
    "        return render_template(\"index.html\")\n"
   ]
  },
  {
   "cell_type": "code",
   "execution_count": null,
   "id": "d6f8370a",
   "metadata": {
    "ExecuteTime": {
     "start_time": "2023-01-18T18:50:43.858Z"
    }
   },
   "outputs": [
    {
     "name": "stderr",
     "output_type": "stream",
     "text": [
      "YOLOv5  v7.0-69-g3b6e27a Python-3.9.13 torch-1.11.0 CUDA:0 (NVIDIA GeForce RTX 2060, 6144MiB)\n",
      "\n",
      "Fusing layers... \n",
      "YOLOv5m summary: 212 layers, 20856975 parameters, 0 gradients\n",
      "Adding AutoShape... \n"
     ]
    },
    {
     "name": "stdout",
     "output_type": "stream",
     "text": [
      " * Serving Flask app '__main__' (lazy loading)\n",
      " * Environment: production\n",
      "\u001b[31m   WARNING: This is a development server. Do not use it in a production deployment.\u001b[0m\n",
      "\u001b[2m   Use a production WSGI server instead.\u001b[0m\n",
      " * Debug mode: off\n"
     ]
    },
    {
     "name": "stderr",
     "output_type": "stream",
     "text": [
      " * Running on http://192.168.1.14:7000/ (Press CTRL+C to quit)\n",
      "192.168.1.65 - - [18/Jan/2023 20:50:57] \"GET / HTTP/1.1\" 200 -\n",
      "192.168.1.65 - - [18/Jan/2023 20:51:05] \"POST / HTTP/1.1\" 200 -\n",
      "192.168.1.65 - - [18/Jan/2023 20:51:05] \"GET /static/predictions/image.jpg HTTP/1.1\" 200 -\n",
      "192.168.1.65 - - [18/Jan/2023 21:27:34] \"POST / HTTP/1.1\" 200 -\n",
      "192.168.1.65 - - [18/Jan/2023 21:27:34] \"GET /static/predictions/image.jpg HTTP/1.1\" 200 -\n",
      "192.168.1.65 - - [18/Jan/2023 21:28:22] \"POST / HTTP/1.1\" 200 -\n",
      "192.168.1.65 - - [18/Jan/2023 21:28:22] \"GET /static/predictions/image.jpg HTTP/1.1\" 200 -\n",
      "192.168.1.65 - - [18/Jan/2023 22:30:26] \"POST / HTTP/1.1\" 200 -\n",
      "192.168.1.65 - - [18/Jan/2023 22:30:26] \"GET /static/predictions/image.jpg HTTP/1.1\" 200 -\n",
      "192.168.1.65 - - [18/Jan/2023 22:30:36] \"POST / HTTP/1.1\" 200 -\n",
      "192.168.1.65 - - [18/Jan/2023 22:30:36] \"GET /static/predictions/image.jpg HTTP/1.1\" 200 -\n",
      "192.168.1.65 - - [18/Jan/2023 22:30:42] \"POST / HTTP/1.1\" 200 -\n",
      "192.168.1.65 - - [18/Jan/2023 22:30:42] \"GET /static/predictions/image.jpg HTTP/1.1\" 200 -\n",
      "192.168.1.65 - - [18/Jan/2023 22:32:04] \"POST / HTTP/1.1\" 200 -\n",
      "192.168.1.65 - - [18/Jan/2023 22:32:04] \"GET /static/predictions/image.jpg HTTP/1.1\" 200 -\n"
     ]
    }
   ],
   "source": [
    "# app run\n",
    "if __name__ == \"__main__\":\n",
    "    device = 'cuda' if torch.cuda.is_available() else 'cpu'\n",
    "    model = torch.hub.load('yolov5', 'custom', path='trained model/weights/best.pt', source='local').eval().to(device)\n",
    "    app.run(port=7000,host = '192.168.1.14')"
   ]
  }
 ],
 "metadata": {
  "kernelspec": {
   "display_name": "Python [conda env:pt] *",
   "language": "python",
   "name": "conda-env-pt-py"
  },
  "language_info": {
   "codemirror_mode": {
    "name": "ipython",
    "version": 3
   },
   "file_extension": ".py",
   "mimetype": "text/x-python",
   "name": "python",
   "nbconvert_exporter": "python",
   "pygments_lexer": "ipython3",
   "version": "3.9.13"
  },
  "latex_envs": {
   "LaTeX_envs_menu_present": true,
   "autoclose": false,
   "autocomplete": true,
   "bibliofile": "biblio.bib",
   "cite_by": "apalike",
   "current_citInitial": 1,
   "eqLabelWithNumbers": true,
   "eqNumInitial": 1,
   "hotkeys": {
    "equation": "Ctrl-E",
    "itemize": "Ctrl-I"
   },
   "labels_anchors": false,
   "latex_user_defs": false,
   "report_style_numbering": false,
   "user_envs_cfg": false
  },
  "toc": {
   "base_numbering": 1,
   "nav_menu": {},
   "number_sections": true,
   "sideBar": true,
   "skip_h1_title": false,
   "title_cell": "Table of Contents",
   "title_sidebar": "Contents",
   "toc_cell": false,
   "toc_position": {},
   "toc_section_display": true,
   "toc_window_display": false
  }
 },
 "nbformat": 4,
 "nbformat_minor": 5
}
